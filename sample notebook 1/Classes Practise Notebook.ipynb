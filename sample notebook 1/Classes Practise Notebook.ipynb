{
 "cells": [
  {
   "cell_type": "code",
   "execution_count": null,
   "metadata": {},
   "outputs": [],
   "source": [
    "import pandas as pd\n",
    "# data1=pd.read_csv('100 Records.csv')\n",
    "## to read the data from '100 Records.csv' file\n",
    "\n",
    "# newdata=pd.DataFrame(data=pd.concat([data1['Emp ID'],data1['First Name'], data1['Last Name'],data1['E Mail'],data1['Zip']],axis=1))\n",
    "## to save the selected columns of the data1 file to newdata file \n",
    "\n",
    "# newdata.to_csv('detail.csv',index=False)\n",
    "## to save newdata dataframes to csv file\n",
    "\n",
    "data2=pd.read_csv('detail.csv')\n",
    "data2.head()\n",
    "data2.rename(columns={'Zip':'Salary'})\n",
    "#to rename the zip code to salary (we are treating zip as a salary)\n",
    "\n",
    "data2.to_csv('emp_data.csv',index=False)\n",
    "#again saving data2 file to csv\n",
    "\n"
   ]
  },
  {
   "cell_type": "code",
   "execution_count": null,
   "metadata": {},
   "outputs": [],
   "source": [
    "import csv\n",
    "\n",
    "with open('emp_data.csv','r') as d:\n",
    "    with open('update_emp_date.txt','w') as u:\n",
    "        data=csv.reader(d,delimiter=',')\n",
    "        next(data)\n",
    "        for line in data:\n",
    "            print(line)\n",
    "            lines='-'.join(line) #to join all the component of the list as a string with \"-\" as separable                     \n",
    "            print(lines)\n",
    "            lines=lines+'\\n' #to add new line after every record \n",
    "            u.write(lines) #to write a record into 'update_emp_date.txt' file\n"
   ]
  },
  {
   "cell_type": "code",
   "execution_count": null,
   "metadata": {},
   "outputs": [],
   "source": [
    "import numpy as np\n",
    "class employee:\n",
    "    \n",
    "    noe=0\n",
    "    raise_amount=1.04\n",
    "    \n",
    "    def __init__(self,Id,first,last,email,salary):\n",
    "        self.Id = Id\n",
    "        self.first= first\n",
    "        self.last = last\n",
    "        self.email = email\n",
    "        self.salary =salary         \n",
    "        employee.noe+=1\n",
    "        \n",
    "    def fullname(self):\n",
    "        return(self.first+\" \"+self.last)\n",
    "    \n",
    "    def bonus(self):\n",
    "        return(self.raise_amount * self.salary)\n",
    "    \n",
    "    def __repr__(self):\n",
    "        return str(self)\n",
    "    \n",
    "    @classmethod\n",
    "    def set_raise_amount(cls,amount):\n",
    "        cls.raise_amount=amount\n",
    "        \n",
    "    @classmethod\n",
    "    def make_new(cls,full_string):\n",
    "        Id,first,last,email,salary=full_string.split('-')\n",
    "        return cls(Id,first,last,email,salary)\n",
    "    \n",
    "with open('update_emp_date.txt','r') as d:\n",
    "    rec = d.readlines()\n",
    "    no_emp=0\n",
    "    for line in rec:\n",
    "#         print(line)\n",
    "        em='emp'+str(no_emp)\n",
    "#         print(type(em))\n",
    "        \n",
    "        em =employee.make_new(line)\n",
    "        #print(em.fullname())\n",
    "        #print(str(emp+no_emp).fullname())\n",
    "        no_emp+=1\n",
    "\n",
    "\n",
    "em.fullname()    \n",
    "    \n",
    "        "
   ]
  },
  {
   "cell_type": "markdown",
   "metadata": {},
   "source": [
    "## Example of Inheritence\n"
   ]
  },
  {
   "cell_type": "code",
   "execution_count": 1,
   "metadata": {},
   "outputs": [
    {
     "name": "stdout",
     "output_type": "stream",
     "text": [
      "Sunil Sharma\n",
      "50000000\n",
      "52000000.0\n",
      "kabir Sharma\n",
      "50000000\n",
      "55000000.00000001\n",
      "python\n"
     ]
    }
   ],
   "source": [
    "class employee:\n",
    "    \n",
    "    noe=0\n",
    "    raise_amount=1.04\n",
    "    \n",
    "    def __init__(self,Id,first,last,email,salary):\n",
    "        self.Id = Id\n",
    "        self.first= first\n",
    "        self.last = last\n",
    "        self.email = email\n",
    "        self.salary =salary         \n",
    "        employee.noe+=1\n",
    "        \n",
    "    def fullname(self):\n",
    "        return(self.first+\" \"+self.last)\n",
    "    \n",
    "    def bonus(self):\n",
    "        return(self.raise_amount * int(self.salary))\n",
    "    \n",
    "    @classmethod\n",
    "    def set_raise_amount(cls,amount):\n",
    "        cls.raise_amount=amount\n",
    "        \n",
    "    @classmethod\n",
    "    def make_new(cls,full_string):\n",
    "        Id,first,last,email,salary=full_string.split('-')\n",
    "        return cls(Id,first,last,email,salary)\n",
    "    \n",
    "    \n",
    "class developer(employee):\n",
    "    raise_amount=1.10\n",
    "    def __init__(self,Id,first,last,email,salary,lang):\n",
    "        super().__init__(Id,first,last,email,salary)\n",
    "#         employee.__init__(self,Id,first,last,email,salary) #-- this could also be used\n",
    "        self.lang=lang\n",
    "    \n",
    "\n",
    "# string = \"12345-Sunil-Sharma-sunil@company.com-50000000\"\n",
    "emp1=employee('12345','Sunil','Sharma','sunil@company.com','50000000')\n",
    "print(emp1.fullname())\n",
    "print(emp1.salary)\n",
    "print(emp1.bonus())\n",
    "\n",
    "# string1 = \"122145-kabir-Sharma-kabir@company.com-50000000-python\"\n",
    "emp2=developer('1232145','kabir','Sharma','kabir@company.com','50000000','python')\n",
    "print(emp2.fullname())\n",
    "print(emp2.salary)\n",
    "print(emp2.bonus())\n",
    "print(emp2.lang)"
   ]
  },
  {
   "cell_type": "code",
   "execution_count": 6,
   "metadata": {},
   "outputs": [
    {
     "name": "stdout",
     "output_type": "stream",
     "text": [
      "kabir Sharma\n",
      "--> Sunil Sharma\n",
      "--> rahul Sharma\n"
     ]
    }
   ],
   "source": [
    "class manager(employee):\n",
    "    \n",
    "    def __init__(self,Id,first,last,email,salary,Emp=None):\n",
    "        super().__init__(Id,first,last,email,salary)\n",
    "        if (Emp is None):\n",
    "            self.Emp=[]\n",
    "        else:\n",
    "            self.Emp=Emp\n",
    "            \n",
    "    def addemp(self,Emp1):\n",
    "        if(Emp1 not in self.Emp):\n",
    "            self.Emp.append(Emp1)\n",
    "            \n",
    "    def rmvemp(self,Emp1):\n",
    "        if(Emp1 not in self.Emp):\n",
    "            self.Emp.remove(Emp1)\n",
    "            \n",
    "    def prtemp(self):\n",
    "        for emp in self.Emp:\n",
    "            print(\"-->\",emp.fullname())\n",
    "        \n",
    "        \n",
    "mgr1=manager('1232145','kabir','Sharma','kabir@company.com','50000000',[emp1])\n",
    "print(mgr1.fullname())\n",
    "# mgr1.prtemp()\n",
    "emp2=employee('123324','rahul','Sharma','sunil@company.com','50000000')\n",
    "mgr1.addemp(emp2)\n",
    "mgr1.prtemp()"
   ]
  },
  {
   "cell_type": "markdown",
   "metadata": {},
   "source": [
    "# __repr__ and __str__ example"
   ]
  },
  {
   "cell_type": "code",
   "execution_count": 14,
   "metadata": {},
   "outputs": [
    {
     "name": "stdout",
     "output_type": "stream",
     "text": [
      "Employee :ID-123324, First Name-rahul, Last Name-Sharma\n",
      "rahul Sharma sunil@company.com\n"
     ]
    }
   ],
   "source": [
    "class employee:\n",
    "    \n",
    "    noe=0\n",
    "    raise_amount=1.04\n",
    "    \n",
    "    def __init__(self,Id,first,last,email,salary):\n",
    "        self.Id = Id\n",
    "        self.first= first\n",
    "        self.last = last\n",
    "        self.email = email\n",
    "        self.salary =salary         \n",
    "        employee.noe+=1\n",
    "        \n",
    "    def fullname(self):\n",
    "        return(self.first+\" \"+self.last)\n",
    "    \n",
    "    def bonus(self):\n",
    "        return(self.raise_amount * int(self.salary))\n",
    "    \n",
    "    @classmethod\n",
    "    def set_raise_amount(cls,amount):\n",
    "        cls.raise_amount=amount\n",
    "        \n",
    "    @classmethod\n",
    "    def make_new(cls,full_string):\n",
    "        Id,first,last,email,salary=full_string.split('-')\n",
    "        return cls(Id,first,last,email,salary)\n",
    "    \n",
    "    def __repr__(self):\n",
    "        return (\"Employee :ID-{}, First Name-{}, Last Name-{}\".format(self.Id,self.first,self.last))\n",
    "    def __str__(self):\n",
    "        return('{} {}'.format(self.fullname(),self.email))\n",
    "    \n",
    "emp1=employee('123324','rahul','Sharma','sunil@company.com','50000000')\n",
    "print(repr(emp1))\n",
    "print(str(emp1))"
   ]
  }
 ],
 "metadata": {
  "kernelspec": {
   "display_name": "Python 3",
   "language": "python",
   "name": "python3"
  },
  "language_info": {
   "codemirror_mode": {
    "name": "ipython",
    "version": 3
   },
   "file_extension": ".py",
   "mimetype": "text/x-python",
   "name": "python",
   "nbconvert_exporter": "python",
   "pygments_lexer": "ipython3",
   "version": "3.5.2"
  }
 },
 "nbformat": 4,
 "nbformat_minor": 2
}
